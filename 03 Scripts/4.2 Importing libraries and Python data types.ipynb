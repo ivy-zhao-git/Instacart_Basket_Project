{
 "cells": [
  {
   "cell_type": "markdown",
   "id": "3a740802-0500-47c0-b6a6-36e750c13792",
   "metadata": {},
   "source": [
    "# 01.Importing Libraries"
   ]
  },
  {
   "cell_type": "code",
   "execution_count": 1,
   "id": "f4791f21-9c24-4ed0-8cf9-a5df46899fab",
   "metadata": {},
   "outputs": [],
   "source": [
    "# Import libraries\n",
    "import pandas as pd\n",
    "import numpy as np\n",
    "import os"
   ]
  },
  {
   "cell_type": "markdown",
   "id": "33518ff0-3d24-4852-935e-f47d4c6fcef3",
   "metadata": {},
   "source": [
    "# 02. Data Types"
   ]
  },
  {
   "cell_type": "code",
   "execution_count": 2,
   "id": "fd645b81-f8b4-4a46-8f62-fdac78a79572",
   "metadata": {},
   "outputs": [],
   "source": [
    "# Code 3 different ways of reaching a result of 100 by adding or subtracting numeric variables.\n",
    "x=50\n",
    "y=50"
   ]
  },
  {
   "cell_type": "code",
   "execution_count": 3,
   "id": "f4d5c4a2-3be8-40e9-a951-488cf7d84d29",
   "metadata": {},
   "outputs": [
    {
     "data": {
      "text/plain": [
       "100"
      ]
     },
     "execution_count": 3,
     "metadata": {},
     "output_type": "execute_result"
    }
   ],
   "source": [
    "x+y"
   ]
  },
  {
   "cell_type": "code",
   "execution_count": 4,
   "id": "9595a415-0ad8-4323-8c74-4a4541290800",
   "metadata": {},
   "outputs": [],
   "source": [
    "x=200\n",
    "y=100"
   ]
  },
  {
   "cell_type": "code",
   "execution_count": 5,
   "id": "801c8b86-a7f4-4c08-8f5d-7e15ef8fdabb",
   "metadata": {},
   "outputs": [
    {
     "data": {
      "text/plain": [
       "100"
      ]
     },
     "execution_count": 5,
     "metadata": {},
     "output_type": "execute_result"
    }
   ],
   "source": [
    "x-y"
   ]
  },
  {
   "cell_type": "code",
   "execution_count": 6,
   "id": "049553b1-6772-43d4-9355-346d4d7ddbfe",
   "metadata": {},
   "outputs": [],
   "source": [
    "x=150\n",
    "y=10\n",
    "z=60"
   ]
  },
  {
   "cell_type": "code",
   "execution_count": 7,
   "id": "9e70eb2f-8168-4b96-aefe-781f9891fffd",
   "metadata": {},
   "outputs": [
    {
     "data": {
      "text/plain": [
       "100"
      ]
     },
     "execution_count": 7,
     "metadata": {},
     "output_type": "execute_result"
    }
   ],
   "source": [
    "x+y-z"
   ]
  },
  {
   "cell_type": "code",
   "execution_count": 8,
   "id": "715f8e5f-b991-462c-b077-c381449a6ec1",
   "metadata": {},
   "outputs": [],
   "source": [
    "# Code 2 floating-point variables and divide them by each other.\n",
    "x=12.666\n",
    "y=2.111"
   ]
  },
  {
   "cell_type": "code",
   "execution_count": 9,
   "id": "78375d84-16ff-4afb-b72f-7bd0281d43d1",
   "metadata": {},
   "outputs": [
    {
     "data": {
      "text/plain": [
       "6.0"
      ]
     },
     "execution_count": 9,
     "metadata": {},
     "output_type": "execute_result"
    }
   ],
   "source": [
    "x/y"
   ]
  },
  {
   "cell_type": "code",
   "execution_count": 10,
   "id": "f59931a0-5074-43b0-beb5-86fb28230cd2",
   "metadata": {},
   "outputs": [],
   "source": [
    "# Construct a short word made of separate strings \n",
    "a='well '\n",
    "b='done'"
   ]
  },
  {
   "cell_type": "code",
   "execution_count": 11,
   "id": "d79e88e5-51a0-4785-a66e-570a3e92109e",
   "metadata": {},
   "outputs": [
    {
     "data": {
      "text/plain": [
       "'well done'"
      ]
     },
     "execution_count": 11,
     "metadata": {},
     "output_type": "execute_result"
    }
   ],
   "source": [
    "a+b"
   ]
  },
  {
   "cell_type": "code",
   "execution_count": 12,
   "id": "28a3ac93-2dc9-469d-a8e7-9221bba4a36d",
   "metadata": {},
   "outputs": [],
   "source": [
    "# Construct 2 short sentences made of separate strings.\n",
    "a='Life is like a book. '\n",
    "b='Every day is a new page waiting to be written.'"
   ]
  },
  {
   "cell_type": "code",
   "execution_count": 13,
   "id": "1458feec-1faa-4390-bead-ec809226918f",
   "metadata": {},
   "outputs": [
    {
     "data": {
      "text/plain": [
       "'Life is like a book. Every day is a new page waiting to be written.'"
      ]
     },
     "execution_count": 13,
     "metadata": {},
     "output_type": "execute_result"
    }
   ],
   "source": [
    "a+b"
   ]
  },
  {
   "cell_type": "code",
   "execution_count": null,
   "id": "3e6cee91-69e8-495a-aaf6-56b1e72e2747",
   "metadata": {},
   "outputs": [],
   "source": []
  }
 ],
 "metadata": {
  "kernelspec": {
   "display_name": "Python 3 (ipykernel)",
   "language": "python",
   "name": "python3"
  },
  "language_info": {
   "codemirror_mode": {
    "name": "ipython",
    "version": 3
   },
   "file_extension": ".py",
   "mimetype": "text/x-python",
   "name": "python",
   "nbconvert_exporter": "python",
   "pygments_lexer": "ipython3",
   "version": "3.12.7"
  }
 },
 "nbformat": 4,
 "nbformat_minor": 5
}
