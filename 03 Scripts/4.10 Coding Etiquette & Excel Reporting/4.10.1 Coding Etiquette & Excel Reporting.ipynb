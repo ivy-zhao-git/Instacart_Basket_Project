{
 "cells": [
  {
   "cell_type": "markdown",
   "id": "d97eaf31-1410-4fb7-974c-ea8174c86a32",
   "metadata": {},
   "source": [
    "# 4.10.1 Coding Etiquette & Excel Reporting"
   ]
  },
  {
   "cell_type": "markdown",
   "id": "b9d16ec9-4acf-40ca-9672-dad7f972f395",
   "metadata": {},
   "source": [
    "## This script includes the following points:\n",
    "\n",
    "#### 1. Import libraries and data\n",
    "#### 2. Address security implications\n",
    "#### 3. Create a regional segmentation of the data\n",
    "#### 4. Create an exclusion flag to exclude low-activity customers\n",
    "#### 5. Create profiling variables\n",
    "#### 6. Visualizations to show distributions of profiles"
   ]
  },
  {
   "cell_type": "markdown",
   "id": "8cf2e19e-46ec-4b08-a723-c4d6647a1e6b",
   "metadata": {},
   "source": [
    "### 1. Import libraries and data"
   ]
  },
  {
   "cell_type": "code",
   "execution_count": 5,
   "id": "7b999cd5-7317-405e-aa1b-d0b28a3a878b",
   "metadata": {},
   "outputs": [],
   "source": [
    "#Importing libraries\n",
    "import pandas as pd\n",
    "import numpy as np\n",
    "import os\n",
    "import matplotlib.pyplot as plt\n",
    "import seaborn as sns\n",
    "import scipy"
   ]
  },
  {
   "cell_type": "code",
   "execution_count": 6,
   "id": "98003b62-8d73-4741-be89-46c1c25798a8",
   "metadata": {},
   "outputs": [],
   "source": [
    "# Set the Path\n",
    "path = r'/Users/test/Desktop/Data Analysis/11-2024 Instacart Basket Analysis'"
   ]
  },
  {
   "cell_type": "code",
   "execution_count": 7,
   "id": "0b816dd4-14ca-4554-880a-df53c258837d",
   "metadata": {},
   "outputs": [],
   "source": [
    "# Import the latest dataframe\n",
    "df = pd.read_pickle(os.path.join(path, '02 Data', 'Prepared Data', 'orders_products_customers_merged.pkl'))"
   ]
  },
  {
   "cell_type": "markdown",
   "id": "f66350c7-91bc-4efc-9705-e28b7aa47e24",
   "metadata": {},
   "source": [
    "### 2. Address security implications"
   ]
  },
  {
   "cell_type": "code",
   "execution_count": 55,
   "id": "919dc573-c452-4ccb-bc0f-9321f157e150",
   "metadata": {},
   "outputs": [],
   "source": [
    "# Drop the PII column 'first_name' and 'surname' \n",
    "\n",
    "# already did  df = df.drop(['first_name', 'surname'], axis=1)"
   ]
  },
  {
   "cell_type": "code",
   "execution_count": 59,
   "id": "1aeb1783-265c-4bd7-9c14-234a78950143",
   "metadata": {},
   "outputs": [
    {
     "data": {
      "text/html": [
       "<div>\n",
       "<style scoped>\n",
       "    .dataframe tbody tr th:only-of-type {\n",
       "        vertical-align: middle;\n",
       "    }\n",
       "\n",
       "    .dataframe tbody tr th {\n",
       "        vertical-align: top;\n",
       "    }\n",
       "\n",
       "    .dataframe thead th {\n",
       "        text-align: right;\n",
       "    }\n",
       "</style>\n",
       "<table border=\"1\" class=\"dataframe\">\n",
       "  <thead>\n",
       "    <tr style=\"text-align: right;\">\n",
       "      <th></th>\n",
       "      <th>product_id</th>\n",
       "      <th>product_name</th>\n",
       "      <th>aisle_id</th>\n",
       "      <th>department_id</th>\n",
       "      <th>prices</th>\n",
       "      <th>order_id</th>\n",
       "      <th>user_id</th>\n",
       "      <th>order_number</th>\n",
       "      <th>orders_day_of_week</th>\n",
       "      <th>order_hour_of_day</th>\n",
       "      <th>...</th>\n",
       "      <th>customer_frequency</th>\n",
       "      <th>order_frequency_flag</th>\n",
       "      <th>gender</th>\n",
       "      <th>state</th>\n",
       "      <th>age</th>\n",
       "      <th>date_joined</th>\n",
       "      <th>n_dependants</th>\n",
       "      <th>family_status</th>\n",
       "      <th>income</th>\n",
       "      <th>region</th>\n",
       "    </tr>\n",
       "  </thead>\n",
       "  <tbody>\n",
       "    <tr>\n",
       "      <th>0</th>\n",
       "      <td>1</td>\n",
       "      <td>Chocolate Sandwich Cookies</td>\n",
       "      <td>61</td>\n",
       "      <td>19</td>\n",
       "      <td>5.8</td>\n",
       "      <td>3139998</td>\n",
       "      <td>138</td>\n",
       "      <td>28</td>\n",
       "      <td>6</td>\n",
       "      <td>11</td>\n",
       "      <td>...</td>\n",
       "      <td>8.0</td>\n",
       "      <td>Frequent customer</td>\n",
       "      <td>Male</td>\n",
       "      <td>Minnesota</td>\n",
       "      <td>81</td>\n",
       "      <td>8/1/2019</td>\n",
       "      <td>1</td>\n",
       "      <td>married</td>\n",
       "      <td>49620</td>\n",
       "      <td>Midwest</td>\n",
       "    </tr>\n",
       "    <tr>\n",
       "      <th>1</th>\n",
       "      <td>1</td>\n",
       "      <td>Chocolate Sandwich Cookies</td>\n",
       "      <td>61</td>\n",
       "      <td>19</td>\n",
       "      <td>5.8</td>\n",
       "      <td>1977647</td>\n",
       "      <td>138</td>\n",
       "      <td>30</td>\n",
       "      <td>6</td>\n",
       "      <td>17</td>\n",
       "      <td>...</td>\n",
       "      <td>8.0</td>\n",
       "      <td>Frequent customer</td>\n",
       "      <td>Male</td>\n",
       "      <td>Minnesota</td>\n",
       "      <td>81</td>\n",
       "      <td>8/1/2019</td>\n",
       "      <td>1</td>\n",
       "      <td>married</td>\n",
       "      <td>49620</td>\n",
       "      <td>Midwest</td>\n",
       "    </tr>\n",
       "    <tr>\n",
       "      <th>2</th>\n",
       "      <td>1</td>\n",
       "      <td>Chocolate Sandwich Cookies</td>\n",
       "      <td>61</td>\n",
       "      <td>19</td>\n",
       "      <td>5.8</td>\n",
       "      <td>389851</td>\n",
       "      <td>709</td>\n",
       "      <td>2</td>\n",
       "      <td>0</td>\n",
       "      <td>21</td>\n",
       "      <td>...</td>\n",
       "      <td>8.0</td>\n",
       "      <td>Frequent customer</td>\n",
       "      <td>Female</td>\n",
       "      <td>Vermont</td>\n",
       "      <td>66</td>\n",
       "      <td>6/16/2018</td>\n",
       "      <td>2</td>\n",
       "      <td>married</td>\n",
       "      <td>158302</td>\n",
       "      <td>Northeast</td>\n",
       "    </tr>\n",
       "    <tr>\n",
       "      <th>3</th>\n",
       "      <td>1</td>\n",
       "      <td>Chocolate Sandwich Cookies</td>\n",
       "      <td>61</td>\n",
       "      <td>19</td>\n",
       "      <td>5.8</td>\n",
       "      <td>652770</td>\n",
       "      <td>764</td>\n",
       "      <td>1</td>\n",
       "      <td>3</td>\n",
       "      <td>13</td>\n",
       "      <td>...</td>\n",
       "      <td>9.0</td>\n",
       "      <td>Frequent customer</td>\n",
       "      <td>Female</td>\n",
       "      <td>Wisconsin</td>\n",
       "      <td>40</td>\n",
       "      <td>2/9/2020</td>\n",
       "      <td>3</td>\n",
       "      <td>married</td>\n",
       "      <td>31308</td>\n",
       "      <td>Midwest</td>\n",
       "    </tr>\n",
       "    <tr>\n",
       "      <th>4</th>\n",
       "      <td>1</td>\n",
       "      <td>Chocolate Sandwich Cookies</td>\n",
       "      <td>61</td>\n",
       "      <td>19</td>\n",
       "      <td>5.8</td>\n",
       "      <td>1813452</td>\n",
       "      <td>764</td>\n",
       "      <td>3</td>\n",
       "      <td>4</td>\n",
       "      <td>17</td>\n",
       "      <td>...</td>\n",
       "      <td>9.0</td>\n",
       "      <td>Frequent customer</td>\n",
       "      <td>Female</td>\n",
       "      <td>Wisconsin</td>\n",
       "      <td>40</td>\n",
       "      <td>2/9/2020</td>\n",
       "      <td>3</td>\n",
       "      <td>married</td>\n",
       "      <td>31308</td>\n",
       "      <td>Midwest</td>\n",
       "    </tr>\n",
       "  </tbody>\n",
       "</table>\n",
       "<p>5 rows × 32 columns</p>\n",
       "</div>"
      ],
      "text/plain": [
       "   product_id                product_name  aisle_id  department_id  prices  \\\n",
       "0           1  Chocolate Sandwich Cookies        61             19     5.8   \n",
       "1           1  Chocolate Sandwich Cookies        61             19     5.8   \n",
       "2           1  Chocolate Sandwich Cookies        61             19     5.8   \n",
       "3           1  Chocolate Sandwich Cookies        61             19     5.8   \n",
       "4           1  Chocolate Sandwich Cookies        61             19     5.8   \n",
       "\n",
       "   order_id user_id  order_number  orders_day_of_week  order_hour_of_day  ...  \\\n",
       "0   3139998     138            28                   6                 11  ...   \n",
       "1   1977647     138            30                   6                 17  ...   \n",
       "2    389851     709             2                   0                 21  ...   \n",
       "3    652770     764             1                   3                 13  ...   \n",
       "4   1813452     764             3                   4                 17  ...   \n",
       "\n",
       "   customer_frequency  order_frequency_flag  gender      state age  \\\n",
       "0                 8.0     Frequent customer    Male  Minnesota  81   \n",
       "1                 8.0     Frequent customer    Male  Minnesota  81   \n",
       "2                 8.0     Frequent customer  Female    Vermont  66   \n",
       "3                 9.0     Frequent customer  Female  Wisconsin  40   \n",
       "4                 9.0     Frequent customer  Female  Wisconsin  40   \n",
       "\n",
       "  date_joined n_dependants family_status  income     region  \n",
       "0    8/1/2019            1       married   49620    Midwest  \n",
       "1    8/1/2019            1       married   49620    Midwest  \n",
       "2   6/16/2018            2       married  158302  Northeast  \n",
       "3    2/9/2020            3       married   31308    Midwest  \n",
       "4    2/9/2020            3       married   31308    Midwest  \n",
       "\n",
       "[5 rows x 32 columns]"
      ]
     },
     "execution_count": 59,
     "metadata": {},
     "output_type": "execute_result"
    }
   ],
   "source": [
    "df.head()"
   ]
  },
  {
   "cell_type": "markdown",
   "id": "a0f70eca-a9b1-4a74-b332-bdf5b434571d",
   "metadata": {},
   "source": [
    "### 3. Create a regional segmentation of the data"
   ]
  },
  {
   "cell_type": "markdown",
   "id": "dae7a99a-7d82-417c-a56f-e2c8466cfec9",
   "metadata": {},
   "source": [
    "#### 3.1 Create a region colunm"
   ]
  },
  {
   "cell_type": "code",
   "execution_count": 63,
   "id": "a59188c6-f7dc-4d7c-a3cd-d3bff1d6ec6f",
   "metadata": {},
   "outputs": [],
   "source": [
    "# Create an empty list to store the region results\n",
    "result = []\n",
    "\n",
    "# Create the conditions (which state belongs to which region)\n",
    "for state in df[\"state\"]:\n",
    "    if state in ['Maine', 'New Hampshire', 'Vermont', 'Massachusetts', \n",
    "                 'Rhode Island', 'Connecticut', 'New York', 'Pennsylvania', \n",
    "                 'New Jersey']:\n",
    "        result.append(\"Northeast\")\n",
    "    elif state in ['Wisconsin', 'Michigan', 'Illinois', 'Indiana', 'Ohio', \n",
    "                   'North Dakota', 'South Dakota', 'Nebraska', 'Kansas', \n",
    "                   'Minnesota', 'Iowa', 'Missouri']:\n",
    "        result.append(\"Midwest\")\n",
    "    elif state in ['Delaware', 'Maryland', 'District of Columbia', 'Virginia', \n",
    "                   'West Virginia', 'North Carolina', 'South Carolina', 'Georgia', \n",
    "                   'Florida', 'Kentucky', 'Tennessee', 'Mississippi', 'Alabama', \n",
    "                   'Oklahoma', 'Texas', 'Arkansas', 'Louisiana']:\n",
    "        result.append(\"South\")\n",
    "    elif state in ['Idaho', 'Montana', 'Wyoming', 'Nevada', 'Utah', 'Colorado', \n",
    "                   'Arizona', 'New Mexico', 'Alaska', 'Washington', 'Oregon', \n",
    "                   'California', 'Hawaii']:\n",
    "        result.append(\"West\")\n",
    "    else:\n",
    "        result.append(\"Unknown\")"
   ]
  },
  {
   "cell_type": "code",
   "execution_count": 65,
   "id": "10fccdf0-8c30-4dc3-8a4b-55788d14ee4b",
   "metadata": {},
   "outputs": [],
   "source": [
    "# Assign the values in result[] to new column 'region'\n",
    "df['region']=result"
   ]
  },
  {
   "cell_type": "code",
   "execution_count": 67,
   "id": "bf769734-13d7-4177-a707-e71c32f354f1",
   "metadata": {},
   "outputs": [
    {
     "data": {
      "text/plain": [
       "region\n",
       "South        10790096\n",
       "West          8291679\n",
       "Midwest       7596065\n",
       "Northeast     5721892\n",
       "Name: count, dtype: int64"
      ]
     },
     "execution_count": 67,
     "metadata": {},
     "output_type": "execute_result"
    }
   ],
   "source": [
    "# Check the value counts\n",
    "df['region'].value_counts()"
   ]
  },
  {
   "cell_type": "markdown",
   "id": "6e47b2e4-20de-4efd-9350-4f9718e7d7de",
   "metadata": {},
   "source": [
    "#### 3.2 Compare the spending habits between U.S. regions"
   ]
  },
  {
   "cell_type": "code",
   "execution_count": 70,
   "id": "c1923783-d032-46de-bfd8-9e164b7a6d98",
   "metadata": {},
   "outputs": [],
   "source": [
    "# Create a crosstab\n",
    "crosstab = pd.crosstab(df['region'], df['spending_flag'], dropna = False)"
   ]
  },
  {
   "cell_type": "code",
   "execution_count": 72,
   "id": "ef8e71a7-aa6f-48dc-b747-850d91af659c",
   "metadata": {},
   "outputs": [],
   "source": [
    "crosstab.to_clipboard()"
   ]
  },
  {
   "cell_type": "code",
   "execution_count": 74,
   "id": "19a5a105-f949-4c05-b750-e98bed6057e2",
   "metadata": {},
   "outputs": [
    {
     "name": "stdout",
     "output_type": "stream",
     "text": [
      "spending_flag  High spender  Low spender\n",
      "region                                  \n",
      "Midwest               29265      7566800\n",
      "Northeast             18639      5703253\n",
      "South                 40577     10749519\n",
      "West                  31238      8260441\n"
     ]
    }
   ],
   "source": [
    "# Print the crosstab\n",
    "print(crosstab)"
   ]
  },
  {
   "cell_type": "markdown",
   "id": "525b3393-737d-48c5-b557-79afb5726e8e",
   "metadata": {},
   "source": [
    "The South has the largest group of high spenders, while the Northeast has the fewest. Similarly, the South also leads in the number of low spenders, likely due to its larger population relative to other regions.\n",
    "\n",
    "This trend suggests that the number of high and low spenders in each region is proportional to its population size, with regions having larger populations naturally accounting for more spenders overall."
   ]
  },
  {
   "cell_type": "code",
   "execution_count": 77,
   "id": "f2cb9c72-5ab9-4d60-b661-2e4466916132",
   "metadata": {},
   "outputs": [],
   "source": [
    "# save changes to dataframe\n",
    "df.to_pickle(os.path.join(path, '02 Data','Prepared Data', 'orders_products_customers_merged.pkl'))"
   ]
  },
  {
   "cell_type": "markdown",
   "id": "0689b5f3-5d17-479a-a270-31ce43c4b427",
   "metadata": {},
   "source": [
    "### 4. Create an exclusion flag to exclude low-activity customers "
   ]
  },
  {
   "cell_type": "code",
   "execution_count": 80,
   "id": "b474919a-240a-44db-943a-91798cb0a038",
   "metadata": {},
   "outputs": [],
   "source": [
    "# Create a flag for customers with less than 5 orders\n",
    "df.loc[df['max_order'] < 5, 'activity_flag'] = 'low-activity customer'\n",
    "df.loc[df['max_order'] >= 5, 'activity_flag'] = 'high-activity customer'"
   ]
  },
  {
   "cell_type": "code",
   "execution_count": 82,
   "id": "fc6e2bd0-a2bc-448c-a72b-391a088918a5",
   "metadata": {},
   "outputs": [
    {
     "data": {
      "text/plain": [
       "activity_flag\n",
       "high-activity customer    30959687\n",
       "low-activity customer      1440045\n",
       "Name: count, dtype: int64"
      ]
     },
     "execution_count": 82,
     "metadata": {},
     "output_type": "execute_result"
    }
   ],
   "source": [
    "# Check the value counts\n",
    "df['activity_flag'].value_counts(dropna = False)"
   ]
  },
  {
   "cell_type": "code",
   "execution_count": 84,
   "id": "9bdde9ce-8e29-4721-8211-75b94781b57c",
   "metadata": {},
   "outputs": [],
   "source": [
    "# Exclude low-activity customers from the dataframe\n",
    "df_excluded = df[df['activity_flag'] != 'low-activity customer']"
   ]
  },
  {
   "cell_type": "code",
   "execution_count": 86,
   "id": "5fa01bb6-daf2-4482-ae6f-84ce09f2136d",
   "metadata": {},
   "outputs": [
    {
     "data": {
      "text/plain": [
       "(32399732, 33)"
      ]
     },
     "execution_count": 86,
     "metadata": {},
     "output_type": "execute_result"
    }
   ],
   "source": [
    "# Check the shape\n",
    "df.shape"
   ]
  },
  {
   "cell_type": "code",
   "execution_count": 88,
   "id": "5df4f85b-d061-4ca1-87be-bc84c463610a",
   "metadata": {},
   "outputs": [
    {
     "data": {
      "text/plain": [
       "(30959687, 33)"
      ]
     },
     "execution_count": 88,
     "metadata": {},
     "output_type": "execute_result"
    }
   ],
   "source": [
    "df_excluded.shape"
   ]
  },
  {
   "cell_type": "code",
   "execution_count": 92,
   "id": "ae3f12f6-ecce-470d-9d04-84e8d703faf6",
   "metadata": {},
   "outputs": [
    {
     "data": {
      "text/html": [
       "<div>\n",
       "<style scoped>\n",
       "    .dataframe tbody tr th:only-of-type {\n",
       "        vertical-align: middle;\n",
       "    }\n",
       "\n",
       "    .dataframe tbody tr th {\n",
       "        vertical-align: top;\n",
       "    }\n",
       "\n",
       "    .dataframe thead th {\n",
       "        text-align: right;\n",
       "    }\n",
       "</style>\n",
       "<table border=\"1\" class=\"dataframe\">\n",
       "  <thead>\n",
       "    <tr style=\"text-align: right;\">\n",
       "      <th></th>\n",
       "      <th>product_id</th>\n",
       "      <th>product_name</th>\n",
       "      <th>aisle_id</th>\n",
       "      <th>department_id</th>\n",
       "      <th>prices</th>\n",
       "      <th>order_id</th>\n",
       "      <th>user_id</th>\n",
       "      <th>order_number</th>\n",
       "      <th>orders_day_of_week</th>\n",
       "      <th>order_hour_of_day</th>\n",
       "      <th>...</th>\n",
       "      <th>order_frequency_flag</th>\n",
       "      <th>gender</th>\n",
       "      <th>state</th>\n",
       "      <th>age</th>\n",
       "      <th>date_joined</th>\n",
       "      <th>n_dependants</th>\n",
       "      <th>family_status</th>\n",
       "      <th>income</th>\n",
       "      <th>region</th>\n",
       "      <th>activity_flag</th>\n",
       "    </tr>\n",
       "  </thead>\n",
       "  <tbody>\n",
       "    <tr>\n",
       "      <th>0</th>\n",
       "      <td>1</td>\n",
       "      <td>Chocolate Sandwich Cookies</td>\n",
       "      <td>61</td>\n",
       "      <td>19</td>\n",
       "      <td>5.8</td>\n",
       "      <td>3139998</td>\n",
       "      <td>138</td>\n",
       "      <td>28</td>\n",
       "      <td>6</td>\n",
       "      <td>11</td>\n",
       "      <td>...</td>\n",
       "      <td>Frequent customer</td>\n",
       "      <td>Male</td>\n",
       "      <td>Minnesota</td>\n",
       "      <td>81</td>\n",
       "      <td>8/1/2019</td>\n",
       "      <td>1</td>\n",
       "      <td>married</td>\n",
       "      <td>49620</td>\n",
       "      <td>Midwest</td>\n",
       "      <td>high-activity customer</td>\n",
       "    </tr>\n",
       "    <tr>\n",
       "      <th>1</th>\n",
       "      <td>1</td>\n",
       "      <td>Chocolate Sandwich Cookies</td>\n",
       "      <td>61</td>\n",
       "      <td>19</td>\n",
       "      <td>5.8</td>\n",
       "      <td>1977647</td>\n",
       "      <td>138</td>\n",
       "      <td>30</td>\n",
       "      <td>6</td>\n",
       "      <td>17</td>\n",
       "      <td>...</td>\n",
       "      <td>Frequent customer</td>\n",
       "      <td>Male</td>\n",
       "      <td>Minnesota</td>\n",
       "      <td>81</td>\n",
       "      <td>8/1/2019</td>\n",
       "      <td>1</td>\n",
       "      <td>married</td>\n",
       "      <td>49620</td>\n",
       "      <td>Midwest</td>\n",
       "      <td>high-activity customer</td>\n",
       "    </tr>\n",
       "    <tr>\n",
       "      <th>2</th>\n",
       "      <td>1</td>\n",
       "      <td>Chocolate Sandwich Cookies</td>\n",
       "      <td>61</td>\n",
       "      <td>19</td>\n",
       "      <td>5.8</td>\n",
       "      <td>389851</td>\n",
       "      <td>709</td>\n",
       "      <td>2</td>\n",
       "      <td>0</td>\n",
       "      <td>21</td>\n",
       "      <td>...</td>\n",
       "      <td>Frequent customer</td>\n",
       "      <td>Female</td>\n",
       "      <td>Vermont</td>\n",
       "      <td>66</td>\n",
       "      <td>6/16/2018</td>\n",
       "      <td>2</td>\n",
       "      <td>married</td>\n",
       "      <td>158302</td>\n",
       "      <td>Northeast</td>\n",
       "      <td>high-activity customer</td>\n",
       "    </tr>\n",
       "    <tr>\n",
       "      <th>5</th>\n",
       "      <td>1</td>\n",
       "      <td>Chocolate Sandwich Cookies</td>\n",
       "      <td>61</td>\n",
       "      <td>19</td>\n",
       "      <td>5.8</td>\n",
       "      <td>1701441</td>\n",
       "      <td>777</td>\n",
       "      <td>16</td>\n",
       "      <td>1</td>\n",
       "      <td>7</td>\n",
       "      <td>...</td>\n",
       "      <td>Regular customer</td>\n",
       "      <td>Female</td>\n",
       "      <td>Hawaii</td>\n",
       "      <td>51</td>\n",
       "      <td>1/4/2019</td>\n",
       "      <td>2</td>\n",
       "      <td>married</td>\n",
       "      <td>57797</td>\n",
       "      <td>West</td>\n",
       "      <td>high-activity customer</td>\n",
       "    </tr>\n",
       "    <tr>\n",
       "      <th>6</th>\n",
       "      <td>1</td>\n",
       "      <td>Chocolate Sandwich Cookies</td>\n",
       "      <td>61</td>\n",
       "      <td>19</td>\n",
       "      <td>5.8</td>\n",
       "      <td>1871483</td>\n",
       "      <td>825</td>\n",
       "      <td>3</td>\n",
       "      <td>2</td>\n",
       "      <td>14</td>\n",
       "      <td>...</td>\n",
       "      <td>Regular customer</td>\n",
       "      <td>Male</td>\n",
       "      <td>District of Columbia</td>\n",
       "      <td>20</td>\n",
       "      <td>5/8/2019</td>\n",
       "      <td>3</td>\n",
       "      <td>living with parents and siblings</td>\n",
       "      <td>34171</td>\n",
       "      <td>South</td>\n",
       "      <td>high-activity customer</td>\n",
       "    </tr>\n",
       "  </tbody>\n",
       "</table>\n",
       "<p>5 rows × 33 columns</p>\n",
       "</div>"
      ],
      "text/plain": [
       "   product_id                product_name  aisle_id  department_id  prices  \\\n",
       "0           1  Chocolate Sandwich Cookies        61             19     5.8   \n",
       "1           1  Chocolate Sandwich Cookies        61             19     5.8   \n",
       "2           1  Chocolate Sandwich Cookies        61             19     5.8   \n",
       "5           1  Chocolate Sandwich Cookies        61             19     5.8   \n",
       "6           1  Chocolate Sandwich Cookies        61             19     5.8   \n",
       "\n",
       "   order_id user_id  order_number  orders_day_of_week  order_hour_of_day  ...  \\\n",
       "0   3139998     138            28                   6                 11  ...   \n",
       "1   1977647     138            30                   6                 17  ...   \n",
       "2    389851     709             2                   0                 21  ...   \n",
       "5   1701441     777            16                   1                  7  ...   \n",
       "6   1871483     825             3                   2                 14  ...   \n",
       "\n",
       "   order_frequency_flag  gender                 state  age date_joined  \\\n",
       "0     Frequent customer    Male             Minnesota   81    8/1/2019   \n",
       "1     Frequent customer    Male             Minnesota   81    8/1/2019   \n",
       "2     Frequent customer  Female               Vermont   66   6/16/2018   \n",
       "5      Regular customer  Female                Hawaii   51    1/4/2019   \n",
       "6      Regular customer    Male  District of Columbia   20    5/8/2019   \n",
       "\n",
       "  n_dependants                     family_status  income     region  \\\n",
       "0            1                           married   49620    Midwest   \n",
       "1            1                           married   49620    Midwest   \n",
       "2            2                           married  158302  Northeast   \n",
       "5            2                           married   57797       West   \n",
       "6            3  living with parents and siblings   34171      South   \n",
       "\n",
       "            activity_flag  \n",
       "0  high-activity customer  \n",
       "1  high-activity customer  \n",
       "2  high-activity customer  \n",
       "5  high-activity customer  \n",
       "6  high-activity customer  \n",
       "\n",
       "[5 rows x 33 columns]"
      ]
     },
     "execution_count": 92,
     "metadata": {},
     "output_type": "execute_result"
    }
   ],
   "source": [
    "# Check the new columns\n",
    "df_excluded.head()"
   ]
  },
  {
   "cell_type": "code",
   "execution_count": 94,
   "id": "3c47dd18-cc0b-46ba-98d6-b9da627b53ed",
   "metadata": {},
   "outputs": [],
   "source": [
    "# Export the new dataframe\n",
    "df_excluded.to_pickle(os.path.join(path, '02 Data','Prepared Data', 'low_activity_excluded.pkl'))"
   ]
  },
  {
   "cell_type": "markdown",
   "id": "69740414-1714-4d29-b95f-e0cc669e8d54",
   "metadata": {},
   "source": [
    "### 5 & 6. Create profiling variables and appropriate visualizations to show the distribution of profiles."
   ]
  },
  {
   "cell_type": "markdown",
   "id": "00bdcbee-2734-4d10-b8b5-a46dd3a59d1c",
   "metadata": {},
   "source": [
    "#### 1). Age"
   ]
  },
  {
   "cell_type": "code",
   "execution_count": 98,
   "id": "ae6c6c44-15dc-42e9-9b33-4ab244825d7e",
   "metadata": {},
   "outputs": [
    {
     "data": {
      "text/plain": [
       "count    3.095969e+07\n",
       "mean     4.946803e+01\n",
       "std      1.848527e+01\n",
       "min      1.800000e+01\n",
       "25%      3.300000e+01\n",
       "50%      4.900000e+01\n",
       "75%      6.500000e+01\n",
       "max      8.100000e+01\n",
       "Name: age, dtype: float64"
      ]
     },
     "execution_count": 98,
     "metadata": {},
     "output_type": "execute_result"
    }
   ],
   "source": [
    "# Overview the age range\n",
    "df_excluded['age'].describe()"
   ]
  },
  {
   "cell_type": "markdown",
   "id": "a4599f92-f5bf-4319-9f6f-a65645783cf7",
   "metadata": {},
   "source": [
    "We group the customers by age. (Young adult <=29, Adult 30-44，Middle-aged adult 45-59, Older adult 60+.)"
   ]
  },
  {
   "cell_type": "code",
   "execution_count": 101,
   "id": "838c77c3-d9ad-4857-9b7b-3432607d4e9a",
   "metadata": {},
   "outputs": [
    {
     "name": "stderr",
     "output_type": "stream",
     "text": [
      "/var/folders/23/dwh_pxj57x19sw0ns77c_swh0000gn/T/ipykernel_18645/1648912794.py:2: SettingWithCopyWarning: \n",
      "A value is trying to be set on a copy of a slice from a DataFrame.\n",
      "Try using .loc[row_indexer,col_indexer] = value instead\n",
      "\n",
      "See the caveats in the documentation: https://pandas.pydata.org/pandas-docs/stable/user_guide/indexing.html#returning-a-view-versus-a-copy\n",
      "  df_excluded.loc[df_excluded['age'] <= 29, 'age_group'] = 'Young adult'\n"
     ]
    }
   ],
   "source": [
    "# Create age profiling variable\n",
    "df_excluded.loc[df_excluded['age'] <= 29, 'age_group'] = 'Young adult'\n",
    "df_excluded.loc[(df_excluded['age'] > 29) & (df_excluded['age'] <= 44), 'age_group'] = 'Adult'\n",
    "df_excluded.loc[(df_excluded['age'] > 44) & (df_excluded['age'] <= 59), 'age_group'] = 'Middle-aged adult'\n",
    "df_excluded.loc[df_excluded['age'] > 59, 'age_group'] = 'Older adult'"
   ]
  },
  {
   "cell_type": "code",
   "execution_count": 103,
   "id": "62f08db3-3153-46bd-a782-f3a98e48aa00",
   "metadata": {},
   "outputs": [
    {
     "data": {
      "text/plain": [
       "age_group\n",
       "Older adult          10572857\n",
       "Middle-aged adult     7309871\n",
       "Adult                 7260327\n",
       "Young adult           5816632\n",
       "Name: count, dtype: int64"
      ]
     },
     "execution_count": 103,
     "metadata": {},
     "output_type": "execute_result"
    }
   ],
   "source": [
    "# Check value counts for each age group\n",
    "age_group_counts = df_excluded['age_group'].value_counts(dropna = False)\n",
    "age_group_counts"
   ]
  },
  {
   "cell_type": "code",
   "execution_count": 105,
   "id": "dd577ebe-5759-46c0-93ff-a39ab47fa4d8",
   "metadata": {},
   "outputs": [
    {
     "data": {
      "image/png": "[encoded data removed]",
      "text/plain": [
       "<Figure size 640x480 with 1 Axes>"
      ]
     },
     "metadata": {},
     "output_type": "display_data"
    }
   ],
   "source": [
    "# Plot a pie chart for age_group distribution\n",
    "pie_age_group = age_group_counts.plot.pie(autopct='%1.1f%%', labels= ['Older adult: 60+ years', 'Middle-aged adult: 45-59 years', 'Adult: 30-44 years', 'Young adult: up to 29 years'], startangle=90, colors=['#ff9999','#66b3ff','#99ff99','#ffcc99'])\n",
    "plt.title('Age Group Distribution')\n",
    "plt.ylabel('')\n",
    "plt.show()"
   ]
  },
  {
   "cell_type": "code",
   "execution_count": 107,
   "id": "4d2cf6f1-d15f-484d-a8dd-ffa3803fed24",
   "metadata": {},
   "outputs": [],
   "source": [
    "# Export chart\n",
    "pie_age_group.figure.savefig(os.path.join(path, '04 Analysis','Visualizations', 'pie_age_group.png'))"
   ]
  },
  {
   "cell_type": "markdown",
   "id": "158e3127-252a-4dd0-b45b-748a112c7879",
   "metadata": {},
   "source": [
    "#### 2). Income"
   ]
  },
  {
   "cell_type": "code",
   "execution_count": 110,
   "id": "32b83f14-bd8d-4670-8ae0-409f058b599f",
   "metadata": {},
   "outputs": [
    {
     "data": {
      "text/plain": [
       "count    3.095969e+07\n",
       "mean     9.965502e+04\n",
       "std      4.309143e+04\n",
       "min      2.590300e+04\n",
       "25%      6.728600e+04\n",
       "50%      9.676100e+04\n",
       "75%      1.280810e+05\n",
       "max      5.939010e+05\n",
       "Name: income, dtype: float64"
      ]
     },
     "execution_count": 110,
     "metadata": {},
     "output_type": "execute_result"
    }
   ],
   "source": [
    "# Overview the income range\n",
    "df_excluded['income'].describe()"
   ]
  },
  {
   "cell_type": "code",
   "execution_count": 112,
   "id": "b57540c5-e8ae-4796-8e3e-f87737f046c7",
   "metadata": {},
   "outputs": [
    {
     "name": "stderr",
     "output_type": "stream",
     "text": [
      "/var/folders/23/dwh_pxj57x19sw0ns77c_swh0000gn/T/ipykernel_18645/2006960026.py:2: SettingWithCopyWarning: \n",
      "A value is trying to be set on a copy of a slice from a DataFrame.\n",
      "Try using .loc[row_indexer,col_indexer] = value instead\n",
      "\n",
      "See the caveats in the documentation: https://pandas.pydata.org/pandas-docs/stable/user_guide/indexing.html#returning-a-view-versus-a-copy\n",
      "  df_excluded.loc[df_excluded['income'] < 67286, 'income_group'] = 'Low income'\n"
     ]
    }
   ],
   "source": [
    "# Create income_group column based on the 25th and 75th percentiles\n",
    "df_excluded.loc[df_excluded['income'] < 67286, 'income_group'] = 'Low income'\n",
    "df_excluded.loc[(df_excluded['income'] >= 67286) & (df_excluded['income'] <= 128081), 'income_group'] = 'Medium income'\n",
    "df_excluded.loc[df_excluded['income'] > 128081, 'income_group'] = 'High income'"
   ]
  },
  {
   "cell_type": "code",
   "execution_count": 114,
   "id": "47c4a7c8-d52b-4cac-bb29-0d697cdad16f",
   "metadata": {},
   "outputs": [
    {
     "data": {
      "text/plain": [
       "income_group\n",
       "Medium income    15480080\n",
       "High income       7739805\n",
       "Low income        7739802\n",
       "Name: count, dtype: int64"
      ]
     },
     "execution_count": 114,
     "metadata": {},
     "output_type": "execute_result"
    }
   ],
   "source": [
    "# Check the counts of income groups\n",
    "df_excluded['income_group'].value_counts(dropna = False)"
   ]
  },
  {
   "cell_type": "code",
   "execution_count": 116,
   "id": "3ffcb4f6-e463-4939-9579-9506819b3704",
   "metadata": {},
   "outputs": [
    {
     "data": {
      "image/png": "[encoded data removed]",
      "text/plain": [
       "<Figure size 640x480 with 1 Axes>"
      ]
     },
     "metadata": {},
     "output_type": "display_data"
    }
   ],
   "source": [
    "# Plot a bar chart for income groups\n",
    "income_group_counts = df_excluded['income_group'].value_counts(dropna=False)\n",
    "bar_income_group = income_group_counts.plot.bar(color = ['orange','red','yellow']) \n",
    "plt.title('Income Group Distribution')\n",
    "plt.xlabel('')\n",
    "plt.xticks(rotation=45)\n",
    "plt.ylabel('Count')\n",
    "plt.show()"
   ]
  },
  {
   "cell_type": "markdown",
   "id": "7ebd7564-6fa8-4bbf-b6c3-c98d66c011d1",
   "metadata": {},
   "source": [
    "Medium income group is the biggest group of customers in the database."
   ]
  },
  {
   "cell_type": "code",
   "execution_count": 119,
   "id": "028b0b35-6dd6-4d1b-8ab8-096d71590d15",
   "metadata": {},
   "outputs": [],
   "source": [
    "# Export the bar chart\n",
    "bar_income_group.figure.savefig(os.path.join(path, '04 Analysis','Visualizations', 'bar_income_group.png'))"
   ]
  },
  {
   "cell_type": "markdown",
   "id": "0a7adf53-86d7-469f-8b32-8604cb3a8fbf",
   "metadata": {},
   "source": [
    "#### 3). Dependents"
   ]
  },
  {
   "cell_type": "code",
   "execution_count": 122,
   "id": "84388a46-035e-4df4-909e-61f0bc45254f",
   "metadata": {},
   "outputs": [
    {
     "name": "stderr",
     "output_type": "stream",
     "text": [
      "/var/folders/23/dwh_pxj57x19sw0ns77c_swh0000gn/T/ipykernel_18645/3417870648.py:2: SettingWithCopyWarning: \n",
      "A value is trying to be set on a copy of a slice from a DataFrame.\n",
      "Try using .loc[row_indexer,col_indexer] = value instead\n",
      "\n",
      "See the caveats in the documentation: https://pandas.pydata.org/pandas-docs/stable/user_guide/indexing.html#returning-a-view-versus-a-copy\n",
      "  df_excluded.loc[df_excluded['n_dependants'] == 0, 'dependants_flag'] = 'no dependants'\n"
     ]
    }
   ],
   "source": [
    "# Create a dependent_flag column\n",
    "df_excluded.loc[df_excluded['n_dependants'] == 0, 'dependants_flag'] = 'no dependants'\n",
    "df_excluded.loc[df_excluded['n_dependants'] >= 1, 'dependants_flag'] = 'has dependants'"
   ]
  },
  {
   "cell_type": "code",
   "execution_count": 124,
   "id": "1767b70b-66bb-406b-ad9f-a15bc0d6dc39",
   "metadata": {},
   "outputs": [
    {
     "data": {
      "text/plain": [
       "dependants_flag\n",
       "has dependants    23221179\n",
       "no dependants      7738508\n",
       "Name: count, dtype: int64"
      ]
     },
     "execution_count": 124,
     "metadata": {},
     "output_type": "execute_result"
    }
   ],
   "source": [
    "# Check value counts\n",
    "dependant_counts = df_excluded['dependants_flag'].value_counts(dropna = False)\n",
    "dependant_counts"
   ]
  },
  {
   "cell_type": "code",
   "execution_count": 126,
   "id": "b0ec524e-80a8-442e-a744-2d2b9cc210ab",
   "metadata": {},
   "outputs": [
    {
     "data": {
      "image/png": "[encoded data removed]",
      "text/plain": [
       "<Figure size 640x480 with 1 Axes>"
      ]
     },
     "metadata": {},
     "output_type": "display_data"
    }
   ],
   "source": [
    "# Create a pie chart showing the percentage of dependants\n",
    "pie_dependents = dependant_counts.plot.pie(autopct='%1.1f%%', labels= ['has dependants', 'no dependants'], startangle=90, colors=['#ff9999','#66b3ff'])\n",
    "plt.title('Customers Dependants Distribution')\n",
    "plt.ylabel('')\n",
    "plt.show()"
   ]
  },
  {
   "cell_type": "code",
   "execution_count": 128,
   "id": "9c6a74f9-f4bb-4ec5-9665-d603babc5269",
   "metadata": {},
   "outputs": [],
   "source": [
    "# Export the Pie Chart\n",
    "pie_dependents.figure.savefig(os.path.join(path,'04 Analysis','Visualizations', 'pie_dependents.png'))"
   ]
  },
  {
   "cell_type": "code",
   "execution_count": 130,
   "id": "fbc06bf4-a814-4e44-89d5-d341d406b291",
   "metadata": {},
   "outputs": [],
   "source": [
    "# Export the new dataframe\n",
    "df_excluded.to_pickle(os.path.join(path, '02 Data','Prepared Data', 'low_activity_excluded.pkl'))"
   ]
  },
  {
   "cell_type": "markdown",
   "id": "aefcb461-f074-4120-8d9c-cd6f112c12ce",
   "metadata": {},
   "source": [
    "#### 4). Spending by Age Group"
   ]
  },
  {
   "cell_type": "code",
   "execution_count": 133,
   "id": "997dcd2c-9862-441b-bcbe-b99c331096b1",
   "metadata": {},
   "outputs": [
    {
     "data": {
      "text/html": [
       "<div>\n",
       "<style scoped>\n",
       "    .dataframe tbody tr th:only-of-type {\n",
       "        vertical-align: middle;\n",
       "    }\n",
       "\n",
       "    .dataframe tbody tr th {\n",
       "        vertical-align: top;\n",
       "    }\n",
       "\n",
       "    .dataframe thead th {\n",
       "        text-align: right;\n",
       "    }\n",
       "</style>\n",
       "<table border=\"1\" class=\"dataframe\">\n",
       "  <thead>\n",
       "    <tr style=\"text-align: right;\">\n",
       "      <th>spending_flag</th>\n",
       "      <th>High spender</th>\n",
       "      <th>Low spender</th>\n",
       "    </tr>\n",
       "    <tr>\n",
       "      <th>age_group</th>\n",
       "      <th></th>\n",
       "      <th></th>\n",
       "    </tr>\n",
       "  </thead>\n",
       "  <tbody>\n",
       "    <tr>\n",
       "      <th>Adult</th>\n",
       "      <td>23261</td>\n",
       "      <td>7237066</td>\n",
       "    </tr>\n",
       "    <tr>\n",
       "      <th>Middle-aged adult</th>\n",
       "      <td>24337</td>\n",
       "      <td>7285534</td>\n",
       "    </tr>\n",
       "    <tr>\n",
       "      <th>Older adult</th>\n",
       "      <td>33655</td>\n",
       "      <td>10539202</td>\n",
       "    </tr>\n",
       "    <tr>\n",
       "      <th>Young adult</th>\n",
       "      <td>16183</td>\n",
       "      <td>5800449</td>\n",
       "    </tr>\n",
       "  </tbody>\n",
       "</table>\n",
       "</div>"
      ],
      "text/plain": [
       "spending_flag      High spender  Low spender\n",
       "age_group                                   \n",
       "Adult                     23261      7237066\n",
       "Middle-aged adult         24337      7285534\n",
       "Older adult               33655     10539202\n",
       "Young adult               16183      5800449"
      ]
     },
     "execution_count": 133,
     "metadata": {},
     "output_type": "execute_result"
    }
   ],
   "source": [
    "# Crosstab spending with age group\n",
    "age_spending_cross = pd.crosstab(df_excluded['age_group'], df_excluded['spending_flag'], dropna = False)\n",
    "age_spending_cross"
   ]
  },
  {
   "cell_type": "code",
   "execution_count": 135,
   "id": "dae467e2-8167-4232-9e7c-40f070c532f6",
   "metadata": {},
   "outputs": [
    {
     "data": {
      "text/plain": [
       "(array([0, 1, 2, 3]),\n",
       " [Text(0, 0, 'Adult'),\n",
       "  Text(1, 0, 'Middle-aged adult'),\n",
       "  Text(2, 0, 'Older adult'),\n",
       "  Text(3, 0, 'Young adult')])"
      ]
     },
     "execution_count": 135,
     "metadata": {},
     "output_type": "execute_result"
    },
    {
     "data": {
      "image/png": "[encoded data removed]",
      "text/plain": [
       "<Figure size 640x480 with 1 Axes>"
      ]
     },
     "metadata": {},
     "output_type": "display_data"
    }
   ],
   "source": [
    "# bar chart\n",
    "bar_age_spending = age_spending_cross.plot.bar()\n",
    "plt.title('Spending by Age Group')\n",
    "plt.xlabel('')\n",
    "plt.ylabel('count')\n",
    "plt.xticks(rotation=0)"
   ]
  },
  {
   "cell_type": "markdown",
   "id": "2c8f0608-12b7-4bd9-8c99-6ad59fa8ee3c",
   "metadata": {},
   "source": [
    "The low spender for each age group is hard to see. Therefore, I would create two bar charts seperately."
   ]
  },
  {
   "cell_type": "code",
   "execution_count": 138,
   "id": "7fe3c3a2-1f84-402f-953b-dba7a4a46b45",
   "metadata": {},
   "outputs": [
    {
     "data": {
      "image/png": "[encoded data removed]",
      "text/plain": [
       "<Figure size 600x400 with 1 Axes>"
      ]
     },
     "metadata": {},
     "output_type": "display_data"
    }
   ],
   "source": [
    "# Basic chart design\n",
    "age_groups = ['Young adult', 'Adult', 'Middle-aged adult', 'Older adult']\n",
    "low_spender_values = [5800449, 7237066, 7285534, 10539202]  \n",
    "high_spender_values = [16183, 23261, 24337, 33655]  \n",
    "colors = ['#ff9999', '#ff6666', '#cc3333', '#993300'] \n",
    "\n",
    "# Create a bar chart for Low spender\n",
    "plt.figure(figsize=(6,4))  \n",
    "plt.bar(age_groups, low_spender_values, color=colors)  \n",
    "plt.title('Low Spender Age Distribution')\n",
    "plt.xlabel('Age Group')\n",
    "plt.ylabel('Count')\n",
    "plt.xticks(rotation=0)\n",
    "plt.tight_layout()\n",
    "# Export the chart\n",
    "plt.savefig(os.path.join(path, '04 Analysis','Visualizations', 'bar_low_spending_age.png'), format='png', dpi=200) \n",
    "plt.show()"
   ]
  },
  {
   "cell_type": "code",
   "execution_count": 140,
   "id": "b1dd5d03-d1b6-4a8d-b956-ee34d5e9fcae",
   "metadata": {},
   "outputs": [],
   "source": [
    "plt.close()"
   ]
  },
  {
   "cell_type": "code",
   "execution_count": 142,
   "id": "a6f363a0-38af-42e1-b7fd-57ce32293dd7",
   "metadata": {},
   "outputs": [
    {
     "data": {
      "image/png": "[encoded data removed]",
      "text/plain": [
       "<Figure size 600x400 with 1 Axes>"
      ]
     },
     "metadata": {},
     "output_type": "display_data"
    }
   ],
   "source": [
    "# Create a bar chart for High spender\n",
    "plt.figure(figsize=(6, 4))  \n",
    "plt.bar(age_groups, high_spender_values, color=colors)  \n",
    "plt.title('High Spender Age Distribution')\n",
    "plt.xlabel('Age Group')\n",
    "plt.ylabel('Count')\n",
    "plt.xticks(rotation=0)\n",
    "plt.tight_layout()\n",
    "# Export the chart and close\n",
    "plt.savefig(os.path.join(path, '04 Analysis','Visualizations', 'bar_high_spending_age.png'), format='png', dpi=200) \n",
    "plt.show()"
   ]
  },
  {
   "cell_type": "code",
   "execution_count": 144,
   "id": "d55bf2f1-3c4d-4fbc-a38b-28367ad4f0af",
   "metadata": {},
   "outputs": [],
   "source": [
    "plt.close()"
   ]
  },
  {
   "cell_type": "markdown",
   "id": "1ebc56fa-916f-4b78-8f55-42c84dbc93b5",
   "metadata": {},
   "source": [
    "#### 5).Loyalty by Age Group"
   ]
  },
  {
   "cell_type": "code",
   "execution_count": 147,
   "id": "a7d253da-516a-462a-b9f2-d3522f16c61a",
   "metadata": {},
   "outputs": [
    {
     "data": {
      "text/html": [
       "<div>\n",
       "<style scoped>\n",
       "    .dataframe tbody tr th:only-of-type {\n",
       "        vertical-align: middle;\n",
       "    }\n",
       "\n",
       "    .dataframe tbody tr th {\n",
       "        vertical-align: top;\n",
       "    }\n",
       "\n",
       "    .dataframe thead th {\n",
       "        text-align: right;\n",
       "    }\n",
       "</style>\n",
       "<table border=\"1\" class=\"dataframe\">\n",
       "  <thead>\n",
       "    <tr style=\"text-align: right;\">\n",
       "      <th>age_group</th>\n",
       "      <th>Adult</th>\n",
       "      <th>Middle-aged adult</th>\n",
       "      <th>Older adult</th>\n",
       "      <th>Young adult</th>\n",
       "    </tr>\n",
       "    <tr>\n",
       "      <th>loyalty_flag</th>\n",
       "      <th></th>\n",
       "      <th></th>\n",
       "      <th></th>\n",
       "      <th></th>\n",
       "    </tr>\n",
       "  </thead>\n",
       "  <tbody>\n",
       "    <tr>\n",
       "      <th>Loyal customer</th>\n",
       "      <td>2415098</td>\n",
       "      <td>2440442</td>\n",
       "      <td>3514296</td>\n",
       "      <td>1912927</td>\n",
       "    </tr>\n",
       "    <tr>\n",
       "      <th>New customer</th>\n",
       "      <td>1119739</td>\n",
       "      <td>1133117</td>\n",
       "      <td>1649663</td>\n",
       "      <td>900277</td>\n",
       "    </tr>\n",
       "    <tr>\n",
       "      <th>Regular customer</th>\n",
       "      <td>3725490</td>\n",
       "      <td>3736312</td>\n",
       "      <td>5408898</td>\n",
       "      <td>3003428</td>\n",
       "    </tr>\n",
       "  </tbody>\n",
       "</table>\n",
       "</div>"
      ],
      "text/plain": [
       "age_group           Adult  Middle-aged adult  Older adult  Young adult\n",
       "loyalty_flag                                                          \n",
       "Loyal customer    2415098            2440442      3514296      1912927\n",
       "New customer      1119739            1133117      1649663       900277\n",
       "Regular customer  3725490            3736312      5408898      3003428"
      ]
     },
     "execution_count": 147,
     "metadata": {},
     "output_type": "execute_result"
    }
   ],
   "source": [
    "# Crosstab loyalty with age group\n",
    "loyalty_age_cross = pd.crosstab(df_excluded['loyalty_flag'], df_excluded['age_group'], dropna=False)\n",
    "loyalty_age_cross"
   ]
  },
  {
   "cell_type": "code",
   "execution_count": 149,
   "id": "58ef57bf-8502-44b3-9613-fdf3c05254ae",
   "metadata": {},
   "outputs": [
    {
     "data": {
      "text/plain": [
       "(array([0, 1, 2]),\n",
       " [Text(0, 0, 'Loyal customer'),\n",
       "  Text(1, 0, 'New customer'),\n",
       "  Text(2, 0, 'Regular customer')])"
      ]
     },
     "execution_count": 149,
     "metadata": {},
     "output_type": "execute_result"
    },
    {
     "data": {
      "image/png": "[encoded data removed]",
      "text/plain": [
       "<Figure size 640x480 with 1 Axes>"
      ]
     },
     "metadata": {},
     "output_type": "display_data"
    }
   ],
   "source": [
    "# bar chart\n",
    "loyalty_age_bar = loyalty_age_cross.plot.bar()\n",
    "plt.title('Loyalty by Age Group')\n",
    "plt.xlabel('')\n",
    "plt.ylabel('count')\n",
    "plt.xticks(rotation=0)"
   ]
  },
  {
   "cell_type": "code",
   "execution_count": 151,
   "id": "5e280281-02cb-43a0-97b7-5f57b3602cf5",
   "metadata": {},
   "outputs": [],
   "source": [
    "# Export the bar chart\n",
    "loyalty_age_bar.figure.savefig(os.path.join(path, '04 Analysis','Visualizations', 'bar_loyalty_age.png'))"
   ]
  }
 ],
 "metadata": {
  "kernelspec": {
   "display_name": "Python 3 (ipykernel)",
   "language": "python",
   "name": "python3"
  },
  "language_info": {
   "codemirror_mode": {
    "name": "ipython",
    "version": 3
   },
   "file_extension": ".py",
   "mimetype": "text/x-python",
   "name": "python",
   "nbconvert_exporter": "python",
   "pygments_lexer": "ipython3",
   "version": "3.12.7"
  }
 },
 "nbformat": 4,
 "nbformat_minor": 5
}
