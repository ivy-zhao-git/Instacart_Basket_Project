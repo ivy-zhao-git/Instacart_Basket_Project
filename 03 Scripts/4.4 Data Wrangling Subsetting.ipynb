{
 "cells": [
  {
   "cell_type": "markdown",
   "id": "37a18fd9-fc3f-405b-89f1-aeb37058fb6e",
   "metadata": {},
   "source": [
    "# 1. Importing libraries"
   ]
  },
  {
   "cell_type": "code",
   "execution_count": 1,
   "id": "221532d6-2fec-454b-af6d-940bd48b0810",
   "metadata": {},
   "outputs": [],
   "source": [
    "import pandas as pd\n",
    "import numpy as np\n",
    "import os"
   ]
  },
  {
   "cell_type": "markdown",
   "id": "08a5671b-48a4-4fce-8a1f-7a5a2f601ecd",
   "metadata": {},
   "source": [
    "# 2. Importing data"
   ]
  },
  {
   "cell_type": "code",
   "execution_count": 2,
   "id": "60869b23-3b2b-4e2a-a0b5-314e6e160973",
   "metadata": {},
   "outputs": [],
   "source": [
    "path = r'/Users/test/Desktop/Data Analysis/11-2024 Instacart Basket Analysis'"
   ]
  },
  {
   "cell_type": "code",
   "execution_count": 12,
   "id": "6fc0efa9-a339-466b-b905-87ccee1472c8",
   "metadata": {},
   "outputs": [],
   "source": [
    "df_ords = pd.read_csv(os.path.join(path, '02 Data', 'Original Data', 'orders.csv'), index_col = False)"
   ]
  },
  {
   "cell_type": "code",
   "execution_count": 13,
   "id": "ce872702-14fb-44cd-bc76-9ca35b6cf539",
   "metadata": {},
   "outputs": [],
   "source": [
    "df_prod = pd.read_csv(os.path.join(path, '02 Data', 'Original Data', 'products.csv'), index_col = False)"
   ]
  },
  {
   "cell_type": "code",
   "execution_count": 14,
   "id": "f992e7d7-a53d-46ef-a29c-ff4228991f11",
   "metadata": {},
   "outputs": [],
   "source": [
    "df_dep = pd.read_csv(os.path.join(path, '02 Data', 'Original Data', 'departments.csv'), index_col = False)"
   ]
  },
  {
   "cell_type": "markdown",
   "id": "c9158706-5463-47ab-80db-9ccb86e85003",
   "metadata": {},
   "source": [
    "# 3. Data Wrangling "
   ]
  },
  {
   "cell_type": "code",
   "execution_count": 15,
   "id": "986bddcb-3da9-48df-8275-5b80eb20c54d",
   "metadata": {},
   "outputs": [],
   "source": [
    "#dropping eval_set column from orders dataframe\n",
    "df_ords=df_ords.drop(columns = ['eval_set'])"
   ]
  },
  {
   "cell_type": "code",
   "execution_count": 16,
   "id": "46a5993d-b03a-4704-91e8-101ca78149ba",
   "metadata": {},
   "outputs": [],
   "source": [
    "#changing data type for order_id and user_id in orders dataframe\n",
    "df_ords['order_id'] = df_ords['order_id'].astype('str')\n",
    "df_ords['user_id'] = df_ords['user_id'].astype('str')"
   ]
  },
  {
   "cell_type": "code",
   "execution_count": 17,
   "id": "3fc2991a-78a1-44f7-bfed-aea33624c150",
   "metadata": {},
   "outputs": [],
   "source": [
    "# changing column name 'order_dow' to 'orders_day_of_week'\n",
    "df_ords.rename(columns = {'order_dow' : 'orders_day_of_week'}, inplace = True)"
   ]
  },
  {
   "cell_type": "code",
   "execution_count": 19,
   "id": "0b6c05da-0fe6-4949-b499-41e9026accd0",
   "metadata": {},
   "outputs": [
    {
     "data": {
      "text/html": [
       "<div>\n",
       "<style scoped>\n",
       "    .dataframe tbody tr th:only-of-type {\n",
       "        vertical-align: middle;\n",
       "    }\n",
       "\n",
       "    .dataframe tbody tr th {\n",
       "        vertical-align: top;\n",
       "    }\n",
       "\n",
       "    .dataframe thead th {\n",
       "        text-align: right;\n",
       "    }\n",
       "</style>\n",
       "<table border=\"1\" class=\"dataframe\">\n",
       "  <thead>\n",
       "    <tr style=\"text-align: right;\">\n",
       "      <th></th>\n",
       "      <th>order_id</th>\n",
       "      <th>user_id</th>\n",
       "      <th>order_number</th>\n",
       "      <th>orders_day_of_week</th>\n",
       "      <th>order_hour_of_day</th>\n",
       "      <th>days_since_prior_order</th>\n",
       "    </tr>\n",
       "  </thead>\n",
       "  <tbody>\n",
       "    <tr>\n",
       "      <th>0</th>\n",
       "      <td>2539329</td>\n",
       "      <td>1</td>\n",
       "      <td>1</td>\n",
       "      <td>2</td>\n",
       "      <td>8</td>\n",
       "      <td>NaN</td>\n",
       "    </tr>\n",
       "    <tr>\n",
       "      <th>1</th>\n",
       "      <td>2398795</td>\n",
       "      <td>1</td>\n",
       "      <td>2</td>\n",
       "      <td>3</td>\n",
       "      <td>7</td>\n",
       "      <td>15.0</td>\n",
       "    </tr>\n",
       "    <tr>\n",
       "      <th>2</th>\n",
       "      <td>473747</td>\n",
       "      <td>1</td>\n",
       "      <td>3</td>\n",
       "      <td>3</td>\n",
       "      <td>12</td>\n",
       "      <td>21.0</td>\n",
       "    </tr>\n",
       "    <tr>\n",
       "      <th>3</th>\n",
       "      <td>2254736</td>\n",
       "      <td>1</td>\n",
       "      <td>4</td>\n",
       "      <td>4</td>\n",
       "      <td>7</td>\n",
       "      <td>29.0</td>\n",
       "    </tr>\n",
       "    <tr>\n",
       "      <th>4</th>\n",
       "      <td>431534</td>\n",
       "      <td>1</td>\n",
       "      <td>5</td>\n",
       "      <td>4</td>\n",
       "      <td>15</td>\n",
       "      <td>28.0</td>\n",
       "    </tr>\n",
       "  </tbody>\n",
       "</table>\n",
       "</div>"
      ],
      "text/plain": [
       "  order_id user_id  order_number  orders_day_of_week  order_hour_of_day  \\\n",
       "0  2539329       1             1                   2                  8   \n",
       "1  2398795       1             2                   3                  7   \n",
       "2   473747       1             3                   3                 12   \n",
       "3  2254736       1             4                   4                  7   \n",
       "4   431534       1             5                   4                 15   \n",
       "\n",
       "   days_since_prior_order  \n",
       "0                     NaN  \n",
       "1                    15.0  \n",
       "2                    21.0  \n",
       "3                    29.0  \n",
       "4                    28.0  "
      ]
     },
     "execution_count": 19,
     "metadata": {},
     "output_type": "execute_result"
    }
   ],
   "source": [
    "df_ords.head()"
   ]
  },
  {
   "cell_type": "code",
   "execution_count": 21,
   "id": "52665b72-ab9a-403a-826b-43530f6b38c7",
   "metadata": {},
   "outputs": [],
   "source": [
    "# Calculate the frequency of orders for each hour\n",
    "order_hour_frequency = df['order_hour_of_day'].value_counts()"
   ]
  },
  {
   "cell_type": "code",
   "execution_count": 22,
   "id": "2655ccc1-afff-4e1f-8e47-3bdc66b1181f",
   "metadata": {},
   "outputs": [
    {
     "name": "stdout",
     "output_type": "stream",
     "text": [
      "order_hour_of_day\n",
      "10    288418\n",
      "11    284728\n",
      "15    283639\n",
      "14    283042\n",
      "13    277999\n",
      "12    272841\n",
      "16    272553\n",
      "9     257812\n",
      "17    228795\n",
      "18    182912\n",
      "8     178201\n",
      "19    140569\n",
      "20    104292\n",
      "7      91868\n",
      "21     78109\n",
      "22     61468\n",
      "23     40043\n",
      "6      30529\n",
      "0      22758\n",
      "1      12398\n",
      "5       9569\n",
      "2       7539\n",
      "4       5527\n",
      "3       5474\n",
      "Name: count, dtype: int64\n"
     ]
    }
   ],
   "source": [
    "print(order_hour_frequency)"
   ]
  },
  {
   "cell_type": "markdown",
   "id": "680c1a4a-b248-46ea-a5a1-342cfd28220d",
   "metadata": {},
   "source": [
    "The busiest hour for placing orders is: 10 with 288418 orders."
   ]
  },
  {
   "cell_type": "code",
   "execution_count": 24,
   "id": "15049438-8e68-4afd-a59f-888518278181",
   "metadata": {},
   "outputs": [],
   "source": [
    "#transposing df_dep\n",
    "df_dep_t=df_dep.T"
   ]
  },
  {
   "cell_type": "code",
   "execution_count": 25,
   "id": "61552b42-10cc-4ad2-b40d-5e04d10553af",
   "metadata": {},
   "outputs": [],
   "source": [
    "# Change header of departments dataframe.\n",
    "new_header = df_dep_t.iloc[0]"
   ]
  },
  {
   "cell_type": "code",
   "execution_count": 26,
   "id": "9385df17-1747-4fa8-98d7-f0b7b3fce9bb",
   "metadata": {},
   "outputs": [],
   "source": [
    "df_dep_t_new = df_dep_t[1:]"
   ]
  },
  {
   "cell_type": "code",
   "execution_count": 27,
   "id": "35d0330b-6d85-490d-91eb-9e42a64847b5",
   "metadata": {},
   "outputs": [],
   "source": [
    "df_dep_t_new.columns = new_header"
   ]
  },
  {
   "cell_type": "markdown",
   "id": "46bbfc59-845c-467a-8e07-957bcc6f9e05",
   "metadata": {},
   "source": [
    "# 4. Creating Data Dictionary"
   ]
  },
  {
   "cell_type": "code",
   "execution_count": 28,
   "id": "342595e3-df13-46c6-8967-5674f6ccd749",
   "metadata": {},
   "outputs": [],
   "source": [
    "data_dict = df_dep_t_new.to_dict('index')"
   ]
  },
  {
   "cell_type": "code",
   "execution_count": 29,
   "id": "4c38c40f-ebf4-4e82-ab58-5a577fad050a",
   "metadata": {},
   "outputs": [
    {
     "name": "stdout",
     "output_type": "stream",
     "text": [
      "{'department': 'produce'}\n"
     ]
    }
   ],
   "source": [
    "# The meaning behind a value of 4 in the \"department_id\" column within the df_prods dataframe.\n",
    "print(data_dict.get('4'))"
   ]
  },
  {
   "cell_type": "markdown",
   "id": "04fa6007-d9f7-449b-bdae-34a298142d0c",
   "metadata": {},
   "source": [
    "The department_id \"4\" corresponds to the category \"produce\"."
   ]
  },
  {
   "cell_type": "markdown",
   "id": "c09dba6c-740e-49d8-a31e-a6053a8690a5",
   "metadata": {},
   "source": [
    "# 5. Creating Subset"
   ]
  },
  {
   "cell_type": "code",
   "execution_count": 30,
   "id": "44cb41cd-053e-4d17-a53e-f75755b39d96",
   "metadata": {},
   "outputs": [
    {
     "data": {
      "text/plain": [
       "{'1': {'department': 'frozen'},\n",
       " '2': {'department': 'other'},\n",
       " '3': {'department': 'bakery'},\n",
       " '4': {'department': 'produce'},\n",
       " '5': {'department': 'alcohol'},\n",
       " '6': {'department': 'international'},\n",
       " '7': {'department': 'beverages'},\n",
       " '8': {'department': 'pets'},\n",
       " '9': {'department': 'dry goods pasta'},\n",
       " '10': {'department': 'bulk'},\n",
       " '11': {'department': 'personal care'},\n",
       " '12': {'department': 'meat seafood'},\n",
       " '13': {'department': 'pantry'},\n",
       " '14': {'department': 'breakfast'},\n",
       " '15': {'department': 'canned goods'},\n",
       " '16': {'department': 'dairy eggs'},\n",
       " '17': {'department': 'household'},\n",
       " '18': {'department': 'babies'},\n",
       " '19': {'department': 'snacks'},\n",
       " '20': {'department': 'deli'},\n",
       " '21': {'department': 'missing'}}"
      ]
     },
     "execution_count": 30,
     "metadata": {},
     "output_type": "execute_result"
    }
   ],
   "source": [
    "# Creating subset for breakfast items. \n",
    "data_dict"
   ]
  },
  {
   "cell_type": "code",
   "execution_count": 32,
   "id": "dfc105ee-e60e-4676-b20f-275b37545dd3",
   "metadata": {},
   "outputs": [],
   "source": [
    "df_prod_breakfast = df_prod.loc[df_prod['department_id'] == 14]"
   ]
  },
  {
   "cell_type": "code",
   "execution_count": 33,
   "id": "eb79bc35-8c43-46a4-89ce-50005c555b59",
   "metadata": {},
   "outputs": [
    {
     "data": {
      "text/html": [
       "<div>\n",
       "<style scoped>\n",
       "    .dataframe tbody tr th:only-of-type {\n",
       "        vertical-align: middle;\n",
       "    }\n",
       "\n",
       "    .dataframe tbody tr th {\n",
       "        vertical-align: top;\n",
       "    }\n",
       "\n",
       "    .dataframe thead th {\n",
       "        text-align: right;\n",
       "    }\n",
       "</style>\n",
       "<table border=\"1\" class=\"dataframe\">\n",
       "  <thead>\n",
       "    <tr style=\"text-align: right;\">\n",
       "      <th></th>\n",
       "      <th>product_id</th>\n",
       "      <th>product_name</th>\n",
       "      <th>aisle_id</th>\n",
       "      <th>department_id</th>\n",
       "      <th>prices</th>\n",
       "    </tr>\n",
       "  </thead>\n",
       "  <tbody>\n",
       "    <tr>\n",
       "      <th>27</th>\n",
       "      <td>28</td>\n",
       "      <td>Wheat Chex Cereal</td>\n",
       "      <td>121</td>\n",
       "      <td>14</td>\n",
       "      <td>10.1</td>\n",
       "    </tr>\n",
       "    <tr>\n",
       "      <th>33</th>\n",
       "      <td>34</td>\n",
       "      <td>NaN</td>\n",
       "      <td>121</td>\n",
       "      <td>14</td>\n",
       "      <td>12.2</td>\n",
       "    </tr>\n",
       "    <tr>\n",
       "      <th>67</th>\n",
       "      <td>68</td>\n",
       "      <td>Pancake Mix, Buttermilk</td>\n",
       "      <td>130</td>\n",
       "      <td>14</td>\n",
       "      <td>13.7</td>\n",
       "    </tr>\n",
       "    <tr>\n",
       "      <th>89</th>\n",
       "      <td>90</td>\n",
       "      <td>Smorz Cereal</td>\n",
       "      <td>121</td>\n",
       "      <td>14</td>\n",
       "      <td>3.9</td>\n",
       "    </tr>\n",
       "    <tr>\n",
       "      <th>210</th>\n",
       "      <td>211</td>\n",
       "      <td>Gluten Free Organic Cereal Coconut Maple Vanilla</td>\n",
       "      <td>130</td>\n",
       "      <td>14</td>\n",
       "      <td>3.6</td>\n",
       "    </tr>\n",
       "  </tbody>\n",
       "</table>\n",
       "</div>"
      ],
      "text/plain": [
       "     product_id                                      product_name  aisle_id  \\\n",
       "27           28                                 Wheat Chex Cereal       121   \n",
       "33           34                                               NaN       121   \n",
       "67           68                           Pancake Mix, Buttermilk       130   \n",
       "89           90                                      Smorz Cereal       121   \n",
       "210         211  Gluten Free Organic Cereal Coconut Maple Vanilla       130   \n",
       "\n",
       "     department_id  prices  \n",
       "27              14    10.1  \n",
       "33              14    12.2  \n",
       "67              14    13.7  \n",
       "89              14     3.9  \n",
       "210             14     3.6  "
      ]
     },
     "execution_count": 33,
     "metadata": {},
     "output_type": "execute_result"
    }
   ],
   "source": [
    "df_prod_breakfast.head()"
   ]
  },
  {
   "cell_type": "code",
   "execution_count": 34,
   "id": "e02d342c-e128-41db-b56b-c1bf9a91a89c",
   "metadata": {},
   "outputs": [],
   "source": [
    "# Creating \"dinner party\" subset. Department_id for \"alcohol\", \"deli\", \"bevrages\" and \"meat/seafood\" are respectively 5, 20, 7 and 12.\n",
    "df_prod_dinner_party = df_prod.loc[df_prod['department_id'].isin([5,7,12,20])]"
   ]
  },
  {
   "cell_type": "code",
   "execution_count": 36,
   "id": "8b0f835d-ee97-4d38-a3d1-d0f6869ce2fc",
   "metadata": {},
   "outputs": [
    {
     "data": {
      "text/plain": [
       "(7650, 5)"
      ]
     },
     "execution_count": 36,
     "metadata": {},
     "output_type": "execute_result"
    }
   ],
   "source": [
    "# How many rows does the last dataframe you created have?\n",
    "df_prod_dinner_party.shape"
   ]
  },
  {
   "cell_type": "markdown",
   "id": "5f853a27-b8fd-4c70-b01e-0df4318aedf5",
   "metadata": {},
   "source": [
    "The new dinner party dataframe has 7650 rows."
   ]
  },
  {
   "cell_type": "code",
   "execution_count": 37,
   "id": "2d8811f4-de40-48e0-acb8-4542de088573",
   "metadata": {},
   "outputs": [
    {
     "data": {
      "text/html": [
       "<div>\n",
       "<style scoped>\n",
       "    .dataframe tbody tr th:only-of-type {\n",
       "        vertical-align: middle;\n",
       "    }\n",
       "\n",
       "    .dataframe tbody tr th {\n",
       "        vertical-align: top;\n",
       "    }\n",
       "\n",
       "    .dataframe thead th {\n",
       "        text-align: right;\n",
       "    }\n",
       "</style>\n",
       "<table border=\"1\" class=\"dataframe\">\n",
       "  <thead>\n",
       "    <tr style=\"text-align: right;\">\n",
       "      <th></th>\n",
       "      <th>order_id</th>\n",
       "      <th>user_id</th>\n",
       "      <th>order_number</th>\n",
       "      <th>orders_day_of_week</th>\n",
       "      <th>order_hour_of_day</th>\n",
       "      <th>days_since_prior_order</th>\n",
       "    </tr>\n",
       "  </thead>\n",
       "  <tbody>\n",
       "    <tr>\n",
       "      <th>0</th>\n",
       "      <td>2539329</td>\n",
       "      <td>1</td>\n",
       "      <td>1</td>\n",
       "      <td>2</td>\n",
       "      <td>8</td>\n",
       "      <td>NaN</td>\n",
       "    </tr>\n",
       "    <tr>\n",
       "      <th>1</th>\n",
       "      <td>2398795</td>\n",
       "      <td>1</td>\n",
       "      <td>2</td>\n",
       "      <td>3</td>\n",
       "      <td>7</td>\n",
       "      <td>15.0</td>\n",
       "    </tr>\n",
       "    <tr>\n",
       "      <th>2</th>\n",
       "      <td>473747</td>\n",
       "      <td>1</td>\n",
       "      <td>3</td>\n",
       "      <td>3</td>\n",
       "      <td>12</td>\n",
       "      <td>21.0</td>\n",
       "    </tr>\n",
       "    <tr>\n",
       "      <th>3</th>\n",
       "      <td>2254736</td>\n",
       "      <td>1</td>\n",
       "      <td>4</td>\n",
       "      <td>4</td>\n",
       "      <td>7</td>\n",
       "      <td>29.0</td>\n",
       "    </tr>\n",
       "    <tr>\n",
       "      <th>4</th>\n",
       "      <td>431534</td>\n",
       "      <td>1</td>\n",
       "      <td>5</td>\n",
       "      <td>4</td>\n",
       "      <td>15</td>\n",
       "      <td>28.0</td>\n",
       "    </tr>\n",
       "    <tr>\n",
       "      <th>5</th>\n",
       "      <td>3367565</td>\n",
       "      <td>1</td>\n",
       "      <td>6</td>\n",
       "      <td>2</td>\n",
       "      <td>7</td>\n",
       "      <td>19.0</td>\n",
       "    </tr>\n",
       "    <tr>\n",
       "      <th>6</th>\n",
       "      <td>550135</td>\n",
       "      <td>1</td>\n",
       "      <td>7</td>\n",
       "      <td>1</td>\n",
       "      <td>9</td>\n",
       "      <td>20.0</td>\n",
       "    </tr>\n",
       "    <tr>\n",
       "      <th>7</th>\n",
       "      <td>3108588</td>\n",
       "      <td>1</td>\n",
       "      <td>8</td>\n",
       "      <td>1</td>\n",
       "      <td>14</td>\n",
       "      <td>14.0</td>\n",
       "    </tr>\n",
       "    <tr>\n",
       "      <th>8</th>\n",
       "      <td>2295261</td>\n",
       "      <td>1</td>\n",
       "      <td>9</td>\n",
       "      <td>1</td>\n",
       "      <td>16</td>\n",
       "      <td>0.0</td>\n",
       "    </tr>\n",
       "    <tr>\n",
       "      <th>9</th>\n",
       "      <td>2550362</td>\n",
       "      <td>1</td>\n",
       "      <td>10</td>\n",
       "      <td>4</td>\n",
       "      <td>8</td>\n",
       "      <td>30.0</td>\n",
       "    </tr>\n",
       "    <tr>\n",
       "      <th>10</th>\n",
       "      <td>1187899</td>\n",
       "      <td>1</td>\n",
       "      <td>11</td>\n",
       "      <td>4</td>\n",
       "      <td>8</td>\n",
       "      <td>14.0</td>\n",
       "    </tr>\n",
       "  </tbody>\n",
       "</table>\n",
       "</div>"
      ],
      "text/plain": [
       "   order_id user_id  order_number  orders_day_of_week  order_hour_of_day  \\\n",
       "0   2539329       1             1                   2                  8   \n",
       "1   2398795       1             2                   3                  7   \n",
       "2    473747       1             3                   3                 12   \n",
       "3   2254736       1             4                   4                  7   \n",
       "4    431534       1             5                   4                 15   \n",
       "5   3367565       1             6                   2                  7   \n",
       "6    550135       1             7                   1                  9   \n",
       "7   3108588       1             8                   1                 14   \n",
       "8   2295261       1             9                   1                 16   \n",
       "9   2550362       1            10                   4                  8   \n",
       "10  1187899       1            11                   4                  8   \n",
       "\n",
       "    days_since_prior_order  \n",
       "0                      NaN  \n",
       "1                     15.0  \n",
       "2                     21.0  \n",
       "3                     29.0  \n",
       "4                     28.0  \n",
       "5                     19.0  \n",
       "6                     20.0  \n",
       "7                     14.0  \n",
       "8                      0.0  \n",
       "9                     30.0  \n",
       "10                    14.0  "
      ]
     },
     "execution_count": 37,
     "metadata": {},
     "output_type": "execute_result"
    }
   ],
   "source": [
    "# Extract all the information about user with user_id 1.\n",
    "df_user1=df_ords.loc[df_ords['user_id'] == '1']\n",
    "df_user1"
   ]
  },
  {
   "cell_type": "code",
   "execution_count": 38,
   "id": "bd770225-dbb9-4e00-83af-129389ea4dce",
   "metadata": {},
   "outputs": [
    {
     "data": {
      "text/html": [
       "<div>\n",
       "<style scoped>\n",
       "    .dataframe tbody tr th:only-of-type {\n",
       "        vertical-align: middle;\n",
       "    }\n",
       "\n",
       "    .dataframe tbody tr th {\n",
       "        vertical-align: top;\n",
       "    }\n",
       "\n",
       "    .dataframe thead th {\n",
       "        text-align: right;\n",
       "    }\n",
       "</style>\n",
       "<table border=\"1\" class=\"dataframe\">\n",
       "  <thead>\n",
       "    <tr style=\"text-align: right;\">\n",
       "      <th></th>\n",
       "      <th>order_number</th>\n",
       "      <th>orders_day_of_week</th>\n",
       "      <th>order_hour_of_day</th>\n",
       "      <th>days_since_prior_order</th>\n",
       "    </tr>\n",
       "  </thead>\n",
       "  <tbody>\n",
       "    <tr>\n",
       "      <th>count</th>\n",
       "      <td>11.000000</td>\n",
       "      <td>11.000000</td>\n",
       "      <td>11.000000</td>\n",
       "      <td>10.000000</td>\n",
       "    </tr>\n",
       "    <tr>\n",
       "      <th>mean</th>\n",
       "      <td>6.000000</td>\n",
       "      <td>2.636364</td>\n",
       "      <td>10.090909</td>\n",
       "      <td>19.000000</td>\n",
       "    </tr>\n",
       "    <tr>\n",
       "      <th>std</th>\n",
       "      <td>3.316625</td>\n",
       "      <td>1.286291</td>\n",
       "      <td>3.477198</td>\n",
       "      <td>9.030811</td>\n",
       "    </tr>\n",
       "    <tr>\n",
       "      <th>min</th>\n",
       "      <td>1.000000</td>\n",
       "      <td>1.000000</td>\n",
       "      <td>7.000000</td>\n",
       "      <td>0.000000</td>\n",
       "    </tr>\n",
       "    <tr>\n",
       "      <th>25%</th>\n",
       "      <td>3.500000</td>\n",
       "      <td>1.500000</td>\n",
       "      <td>7.500000</td>\n",
       "      <td>14.250000</td>\n",
       "    </tr>\n",
       "    <tr>\n",
       "      <th>50%</th>\n",
       "      <td>6.000000</td>\n",
       "      <td>3.000000</td>\n",
       "      <td>8.000000</td>\n",
       "      <td>19.500000</td>\n",
       "    </tr>\n",
       "    <tr>\n",
       "      <th>75%</th>\n",
       "      <td>8.500000</td>\n",
       "      <td>4.000000</td>\n",
       "      <td>13.000000</td>\n",
       "      <td>26.250000</td>\n",
       "    </tr>\n",
       "    <tr>\n",
       "      <th>max</th>\n",
       "      <td>11.000000</td>\n",
       "      <td>4.000000</td>\n",
       "      <td>16.000000</td>\n",
       "      <td>30.000000</td>\n",
       "    </tr>\n",
       "  </tbody>\n",
       "</table>\n",
       "</div>"
      ],
      "text/plain": [
       "       order_number  orders_day_of_week  order_hour_of_day  \\\n",
       "count     11.000000           11.000000          11.000000   \n",
       "mean       6.000000            2.636364          10.090909   \n",
       "std        3.316625            1.286291           3.477198   \n",
       "min        1.000000            1.000000           7.000000   \n",
       "25%        3.500000            1.500000           7.500000   \n",
       "50%        6.000000            3.000000           8.000000   \n",
       "75%        8.500000            4.000000          13.000000   \n",
       "max       11.000000            4.000000          16.000000   \n",
       "\n",
       "       days_since_prior_order  \n",
       "count               10.000000  \n",
       "mean                19.000000  \n",
       "std                  9.030811  \n",
       "min                  0.000000  \n",
       "25%                 14.250000  \n",
       "50%                 19.500000  \n",
       "75%                 26.250000  \n",
       "max                 30.000000  "
      ]
     },
     "execution_count": 38,
     "metadata": {},
     "output_type": "execute_result"
    }
   ],
   "source": [
    "# Stats about the user's behaviour.\n",
    "df_user1.describe()"
   ]
  },
  {
   "cell_type": "markdown",
   "id": "c85319d7-467b-48fd-8ef6-cc562a00dd0a",
   "metadata": {},
   "source": [
    "The information get from the table:\n",
    "1). The user places an order every 19 days on average. The user has placed two orders on the same day, and has a maximum of 30 days between orders.\n",
    "2). The user places orders mostly on Wednesday and Thursday, never from Friday to Sunday.\n",
    "3). The user has placed 11 orders between 7:00 and 16:00."
   ]
  },
  {
   "cell_type": "markdown",
   "id": "6dfe6d7b-6500-496a-a480-d77f8aaa9b9a",
   "metadata": {},
   "source": [
    "# 6. Export Data"
   ]
  },
  {
   "cell_type": "code",
   "execution_count": 44,
   "id": "fdffc906-5c62-46c4-ada1-788ae8e162a8",
   "metadata": {},
   "outputs": [],
   "source": [
    "# Export orders dataframe\n",
    "df_ords.to_csv(os.path.join(path, '02 Data','Prepared Data', 'orders_wrangled.csv'))"
   ]
  },
  {
   "cell_type": "code",
   "execution_count": 45,
   "id": "5ad64dde-d946-45e8-b543-7bc43f26911d",
   "metadata": {},
   "outputs": [],
   "source": [
    "# Export departments data frame\n",
    "df_dep_t_new.to_csv(os.path.join(path, '02 Data','Prepared Data', 'departments_wrangled.csv'))"
   ]
  },
  {
   "cell_type": "code",
   "execution_count": null,
   "id": "0de3d324-403e-40ea-82c3-5b2f7126a163",
   "metadata": {},
   "outputs": [],
   "source": []
  }
 ],
 "metadata": {
  "kernelspec": {
   "display_name": "Python 3 (ipykernel)",
   "language": "python",
   "name": "python3"
  },
  "language_info": {
   "codemirror_mode": {
    "name": "ipython",
    "version": 3
   },
   "file_extension": ".py",
   "mimetype": "text/x-python",
   "name": "python",
   "nbconvert_exporter": "python",
   "pygments_lexer": "ipython3",
   "version": "3.12.7"
  }
 },
 "nbformat": 4,
 "nbformat_minor": 5
}
